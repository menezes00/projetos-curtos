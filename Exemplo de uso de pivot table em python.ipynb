{
 "cells": [
  {
   "cell_type": "code",
   "execution_count": null,
   "id": "46253ee1-4641-42a5-882d-a59a98602ab0",
   "metadata": {
    "tags": []
   },
   "outputs": [],
   "source": [
    "import pandas as pd\n",
    "import fastparquet\n",
    "import pyarrow.parquet as pq"
   ]
  },
  {
   "cell_type": "code",
   "execution_count": null,
   "id": "07688ce3-68c3-42e5-82df-2228bd6dc854",
   "metadata": {
    "tags": []
   },
   "outputs": [],
   "source": [
    "pd.set_option('display.max_columns', None)\n",
    "pd.set_option('display.max_rows', 50)\n",
    "pd.set_option('mode.chained_assignment', None)"
   ]
  },
  {
   "cell_type": "code",
   "execution_count": null,
   "id": "b9208af1-db88-47f7-9ded-67bee85d94a1",
   "metadata": {
    "tags": []
   },
   "outputs": [],
   "source": [
    "import os\n",
    "\n",
    "# Altera o diretório atual para a pasta \"/home/user/my_dir\"\n",
    "os.chdir(\"C:/Users/leandro.menezes/Downloads\")"
   ]
  },
  {
   "cell_type": "code",
   "execution_count": null,
   "id": "f14047ca-7805-475f-943d-f669143a4efb",
   "metadata": {
    "tags": []
   },
   "outputs": [],
   "source": [
    "pel = pd.read_parquet('pnl_consolidado (5).parquet')\n",
    "pel.shape"
   ]
  },
  {
   "cell_type": "code",
   "execution_count": null,
   "id": "d3835bdd-fb59-4997-9ad1-477e566cf760",
   "metadata": {
    "tags": []
   },
   "outputs": [],
   "source": [
    "for colum in pel.columns:\n",
    "    print(colum)"
   ]
  },
  {
   "cell_type": "code",
   "execution_count": null,
   "id": "05877173-4428-4393-a4fb-f37a5bc827d8",
   "metadata": {
    "tags": []
   },
   "outputs": [],
   "source": [
    "janeiro = pd.read_excel('planilha',sheet_name = 'sheet 1')"
   ]
  },
  {
   "cell_type": "code",
   "execution_count": null,
   "id": "2edb04d1-f150-4122-8a13-fa03d65ad7d6",
   "metadata": {
    "tags": []
   },
   "outputs": [],
   "source": [
    "for colum in janeiro.columns:\n",
    "    print(colum)"
   ]
  },
  {
   "cell_type": "code",
   "execution_count": null,
   "id": "9c40ef55-96fd-4342-8049-0c33aa61194a",
   "metadata": {
    "tags": []
   },
   "outputs": [],
   "source": [
    "pel = pd.concat([pel,janeiro])"
   ]
  },
  {
   "cell_type": "code",
   "execution_count": null,
   "id": "8e196237-7876-49cb-aa50-40dd74d78c02",
   "metadata": {
    "tags": []
   },
   "outputs": [],
   "source": [
    "pel.shape"
   ]
  },
  {
   "cell_type": "code",
   "execution_count": null,
   "id": "90f7b976-49d7-4a82-8878-4d302ae42f31",
   "metadata": {},
   "outputs": [],
   "source": [
    "pel.head()"
   ]
  },
  {
   "cell_type": "code",
   "execution_count": null,
   "id": "47a2807a-22e8-433c-9e77-d7adb3061685",
   "metadata": {
    "tags": []
   },
   "outputs": [],
   "source": [
    "for coluna in pel.columns:\n",
    "    print(coluna)\n"
   ]
  },
  {
   "cell_type": "code",
   "execution_count": null,
   "id": "8fa99c95-e7ff-4362-9864-ebcf74c77089",
   "metadata": {},
   "outputs": [],
   "source": [
    "df_pivot = pel[pel['oringin_state'].isin(['SP', 'MG', 'SC']) & pel['destination_state'].isin(['SP', 'MG', 'SC'])].pivot_table(\n",
    "    values=['carrier_cost', 'tracking_code'], index=['oringin_state', 'destination_state'], aggfunc={'carrier_cost': sum, 'tracking_code': 'size'})"
   ]
  },
  {
   "cell_type": "code",
   "execution_count": null,
   "id": "96e77c2e-3092-44b0-b7b3-25d38448993f",
   "metadata": {},
   "outputs": [],
   "source": [
    "df_pivot"
   ]
  },
  {
   "cell_type": "code",
   "execution_count": null,
   "id": "f6f12b61-905a-420d-87e3-ca35f43d84cd",
   "metadata": {},
   "outputs": [],
   "source": [
    "df_pivot2 = pel[\n",
    "    (pel['oringin_state'] == 'SP') & (pel['destination_state'] == 'SP')\n",
    "    | (pel['oringin_state'] == 'MG') & (pel['destination_state'] == 'MG')\n",
    "    | (pel['oringin_state'] == 'SC') & (pel['destination_state'] == 'SC')\n",
    "].pivot_table(\n",
    "    values=['carrier_cost', 'tracking_code'],\n",
    "    index=['oringin_state', 'destination_state'],\n",
    "    aggfunc={'carrier_cost': sum, 'tracking_code': 'size'})"
   ]
  },
  {
   "cell_type": "code",
   "execution_count": null,
   "id": "6f474062-0f05-4806-80a0-821903310ea7",
   "metadata": {},
   "outputs": [],
   "source": [
    "df_pivot2"
   ]
  },
  {
   "cell_type": "code",
   "execution_count": null,
   "id": "872ed088-64d1-4a67-9165-c39554332c46",
   "metadata": {},
   "outputs": [],
   "source": [
    "df_pivot2.to_excel('Consulta Robson volume por destino.xlsx')"
   ]
  },
  {
   "cell_type": "markdown",
   "id": "50df0c69-a65d-45ab-b9db-dcd25ebc6bba",
   "metadata": {},
   "source": [
    "## Adicionando month aos indices"
   ]
  },
  {
   "cell_type": "code",
   "execution_count": null,
   "id": "e0d5bf21-8e86-4c0f-b6fc-c6b85c032760",
   "metadata": {},
   "outputs": [],
   "source": [
    "df_pivot2 = pel[\n",
    "    (pel['oringin_state'] == 'SP') & (pel['destination_state'] == 'SP')\n",
    "    | (pel['oringin_state'] == 'MG') & (pel['destination_state'] == 'MG')\n",
    "    | (pel['oringin_state'] == 'SC') & (pel['destination_state'] == 'SC')\n",
    "].pivot_table(\n",
    "    values=['carrier_cost', 'tracking_code'],\n",
    "    index=['oringin_state', 'destination_state', 'month'], \n",
    "    aggfunc={'carrier_cost': sum, 'tracking_code': 'size'})"
   ]
  },
  {
   "cell_type": "code",
   "execution_count": null,
   "id": "4ad040a3-38c8-4e84-ace1-24501c703b55",
   "metadata": {},
   "outputs": [],
   "source": [
    "df_pivot2"
   ]
  },
  {
   "cell_type": "code",
   "execution_count": null,
   "id": "ab3db143-22fd-432c-959e-2522aa5e97eb",
   "metadata": {},
   "outputs": [],
   "source": [
    "df_pivot2.to_excel('envios_uf_to_uf.xlsx')"
   ]
  },
  {
   "cell_type": "code",
   "execution_count": null,
   "id": "70c55f5d-0395-47ca-bdec-1aa089788828",
   "metadata": {},
   "outputs": [],
   "source": [
    "pel['month'] = pd.to_datetime(pel['purchase_timestamp']).dt.month"
   ]
  },
  {
   "cell_type": "code",
   "execution_count": null,
   "id": "9d298111-8b85-4f2a-9349-571415df1b67",
   "metadata": {},
   "outputs": [],
   "source": [
    "pel.head()"
   ]
  },
  {
   "cell_type": "code",
   "execution_count": null,
   "id": "12c0a4b2-6aa1-49a6-ad58-7bcd5b98cd79",
   "metadata": {
    "tags": []
   },
   "outputs": [],
   "source": [
    "pnl_15_01['margem'] = (pnl_15_01['nd_log'] - pnl_15_01['carrier_cost'])"
   ]
  },
  {
   "cell_type": "code",
   "execution_count": null,
   "id": "8627f0d6-bbc0-4aa3-adfc-8aeea567c4e9",
   "metadata": {
    "tags": []
   },
   "outputs": [],
   "source": [
    "pnl_15_01['margem']"
   ]
  },
  {
   "cell_type": "code",
   "execution_count": null,
   "id": "505262cf-528a-4416-a4a6-4e28c9cd5208",
   "metadata": {
    "tags": []
   },
   "outputs": [],
   "source": [
    "pnl_15_01['nd_log']"
   ]
  },
  {
   "cell_type": "code",
   "execution_count": null,
   "id": "83d70111-dac0-41fd-b545-b06847a6a519",
   "metadata": {
    "tags": []
   },
   "outputs": [],
   "source": [
    "pnl_15_01['Nome da Origem'].nunique()"
   ]
  },
  {
   "cell_type": "markdown",
   "id": "dd8a332f-0fc9-40b0-b1e2-1f0f352bdd5c",
   "metadata": {},
   "source": [
    "## loggi, por volume de tracking quais as regiões eu estou pagando mais "
   ]
  },
  {
   "cell_type": "code",
   "execution_count": null,
   "id": "2a0e8e40-6400-4aec-ae26-032eea25efb7",
   "metadata": {
    "tags": []
   },
   "outputs": [],
   "source": [
    "nomes_origens = pnl_15_01['Nome da Origem'].unique()\n",
    "\n",
    "for nome in nomes_origens:\n",
    "    print(nome)"
   ]
  },
  {
   "cell_type": "code",
   "execution_count": null,
   "id": "6915ecda-af74-4a1d-b770-5aef87bf9b5e",
   "metadata": {
    "tags": []
   },
   "outputs": [],
   "source": [
    "loggi_encontrados = pnl_15_01[pnl_15_01['Nome da Origem'] == ' - Loggi']\n"
   ]
  },
  {
   "cell_type": "code",
   "execution_count": null,
   "id": "6a40b281-a972-4b36-9224-850c04dda560",
   "metadata": {
    "tags": []
   },
   "outputs": [],
   "source": [
    "loggi_encontrados.shape"
   ]
  },
  {
   "cell_type": "code",
   "execution_count": null,
   "id": "3fcd9b1e-c8ab-4929-a3a9-289e9581eaf6",
   "metadata": {
    "tags": []
   },
   "outputs": [],
   "source": [
    "loggi_encontrados.head()"
   ]
  },
  {
   "cell_type": "code",
   "execution_count": null,
   "id": "8c44825e-22b5-4b59-8330-00696883ba4a",
   "metadata": {
    "tags": []
   },
   "outputs": [],
   "source": [
    "df = loggi_encontrados[['tracking_code', 'oringin_state', 'carrier_cost']]"
   ]
  },
  {
   "cell_type": "code",
   "execution_count": null,
   "id": "5fee345d-f235-4e08-994e-863992d4734e",
   "metadata": {
    "tags": []
   },
   "outputs": [],
   "source": [
    "df_pivot = df.pivot_table(values='carrier_cost', index='oringin_state', aggfunc=\"sum\")\n"
   ]
  },
  {
   "cell_type": "code",
   "execution_count": null,
   "id": "6087a847-7c08-44cd-b7e5-2edca0a10bee",
   "metadata": {
    "tags": []
   },
   "outputs": [],
   "source": [
    "df_pivot"
   ]
  },
  {
   "cell_type": "code",
   "execution_count": null,
   "id": "a2eed10f-8a1b-4189-9a09-acc0fb1f3c09",
   "metadata": {
    "tags": []
   },
   "outputs": [],
   "source": [
    "pip install --upgrade pandas\n"
   ]
  },
  {
   "cell_type": "code",
   "execution_count": null,
   "id": "e04f2312-fff4-4b11-8400-dd71d5319cb0",
   "metadata": {
    "tags": []
   },
   "outputs": [],
   "source": [
    "df_pivot = df.pivot_table(values=['carrier_cost', 'tracking_code'], index='oringin_state', aggfunc={'carrier_cost': sum, 'tracking_code': 'size'})"
   ]
  },
  {
   "cell_type": "code",
   "execution_count": null,
   "id": "02afa2ed-72e5-4a18-9aa2-e34545a071c6",
   "metadata": {
    "tags": []
   },
   "outputs": [],
   "source": [
    "df_pivot"
   ]
  },
  {
   "cell_type": "code",
   "execution_count": null,
   "id": "83297968-4939-4ceb-9546-7cd6b5f5e72e",
   "metadata": {
    "tags": []
   },
   "outputs": [],
   "source": [
    "df_pivot['carrier_cost_per_tracking'] = df_pivot['carrier_cost'] / df_pivot['tracking_code']"
   ]
  },
  {
   "cell_type": "code",
   "execution_count": null,
   "id": "fbe697cd-2d98-4742-952c-3d71a2498061",
   "metadata": {
    "tags": []
   },
   "outputs": [],
   "source": [
    "df_pivot"
   ]
  },
  {
   "cell_type": "code",
   "execution_count": null,
   "id": "07d3fb3d-4db2-4642-ad11-2a192128ceb4",
   "metadata": {
    "tags": []
   },
   "outputs": [],
   "source": [
    "df_pivot['carrier_cost_per_tracking'] = df_pivot['carrier_cost'] / df_pivot['tracking_code']\n"
   ]
  },
  {
   "cell_type": "code",
   "execution_count": null,
   "id": "78f6bd80-980c-41f0-8044-afd4f9a6c4ad",
   "metadata": {
    "tags": []
   },
   "outputs": [],
   "source": [
    "df_pivot = df_pivot.sort_values('carrier_cost', ascending=False)"
   ]
  },
  {
   "cell_type": "code",
   "execution_count": null,
   "id": "ae4a3a13-010d-4b19-b63a-cb298a56c28c",
   "metadata": {
    "tags": []
   },
   "outputs": [],
   "source": [
    "df_pivot = df_pivot.rename(columns={'tracking_code': 'Quantidade de Trackings', 'carrier_cost_per_tracking': 'CMU'})\n"
   ]
  },
  {
   "cell_type": "code",
   "execution_count": null,
   "id": "eefc37fe-6420-4168-943d-482b395c163b",
   "metadata": {
    "tags": []
   },
   "outputs": [],
   "source": [
    "df_pivot"
   ]
  },
  {
   "cell_type": "code",
   "execution_count": null,
   "id": "863f7a6f-1ac4-43f7-bf97-b17e3730819d",
   "metadata": {
    "tags": []
   },
   "outputs": [],
   "source": [
    "df2 = loggi_encontrados[['tracking_code', 'oringin_state', 'carrier_cost','cubed_weight_range']]"
   ]
  },
  {
   "cell_type": "code",
   "execution_count": null,
   "id": "2bb8e617-19b3-4cde-a9bd-556e903f68c8",
   "metadata": {},
   "outputs": [],
   "source": [
    "df_pivot222 = df2.pivot_table(values=['tracking_code','carrier_cost'], index='cubed_weight_range', aggfunc={'tracking_code': 'size', 'carrier_cost':sum})"
   ]
  },
  {
   "cell_type": "code",
   "execution_count": null,
   "id": "41276ec8-abf4-4f0c-903c-0ec2b8b39d14",
   "metadata": {
    "tags": []
   },
   "outputs": [],
   "source": [
    "nomes_origens = pnl_15_01['cubed_weight_range'].unique()\n",
    "\n",
    "for nome in nomes_origens:\n",
    "    print(nome)"
   ]
  },
  {
   "cell_type": "markdown",
   "id": "104af8c2-c36d-46a8-8e87-8c4e198035f3",
   "metadata": {},
   "source": [
    "## Movendo coluna de lugar"
   ]
  },
  {
   "cell_type": "code",
   "execution_count": null,
   "id": "cbb5651c-3b6b-4d50-84ad-ffa2069ac234",
   "metadata": {
    "tags": []
   },
   "outputs": [],
   "source": [
    "df_pivot222 = df_pivot222.reindex(columns=['tracking_code', 'carrier_cost'])"
   ]
  },
  {
   "cell_type": "code",
   "execution_count": null,
   "id": "6813981f-87db-44b5-bf55-57c1f3bc8859",
   "metadata": {
    "tags": []
   },
   "outputs": [],
   "source": [
    "df_pivot222"
   ]
  },
  {
   "cell_type": "code",
   "execution_count": null,
   "id": "120c4ca1-9354-4747-87d3-1dc47fc5a8ff",
   "metadata": {
    "tags": []
   },
   "outputs": [],
   "source": [
    "for i in range(len(df_pivot222)):\n",
    "    if df2.loc[i, 'cubed_weight_range'] == 'greater than 29000':\n",
    "        df2.loc[i, 'cubed_weight_range'] = 10\n",
    "    else:\n",
    "        df2.loc[i, 'cubed_weight_range'] = int(df2.loc[i, 'cubed_weight_range'].split('-')[0]) + 2"
   ]
  },
  {
   "cell_type": "code",
   "execution_count": null,
   "id": "2152af69-4cc8-433d-9a1f-8c091e6ca2af",
   "metadata": {
    "tags": []
   },
   "outputs": [],
   "source": [
    "df_pivot222"
   ]
  },
  {
   "cell_type": "code",
   "execution_count": null,
   "id": "96137dd0-db90-4aa6-ae2d-3d0bcd6f8043",
   "metadata": {
    "tags": []
   },
   "outputs": [],
   "source": [
    "df_pivot222.index = df_pivot222.index.map(lambda x: 10 if x == \"greater than 29000\" else int(x.split('-')[0]) + 1)"
   ]
  },
  {
   "cell_type": "code",
   "execution_count": null,
   "id": "c4b2f73f-0fa6-4ffc-877d-7bad9a977ce6",
   "metadata": {
    "tags": []
   },
   "outputs": [],
   "source": [
    "df_pivot222\n"
   ]
  },
  {
   "cell_type": "code",
   "execution_count": null,
   "id": "252f4004-0ff9-4064-a0d0-dc1e27ba4131",
   "metadata": {
    "tags": []
   },
   "outputs": [],
   "source": [
    "df_pivot222.index = df_pivot222.index.map(lambda x: 10 if x == \"greater than 29000\" else int(x.split('-')[0]) + 2)\n"
   ]
  },
  {
   "cell_type": "code",
   "execution_count": null,
   "id": "dbe03ce6-0736-4c2b-8f40-829ed5c73652",
   "metadata": {
    "tags": []
   },
   "outputs": [],
   "source": [
    "df_pivot222.to_excel('tabela_analise.xlsx')"
   ]
  },
  {
   "cell_type": "code",
   "execution_count": null,
   "id": "b31a5c49-1a3e-4f17-9a4d-2e6415e9dc2a",
   "metadata": {
    "tags": []
   },
   "outputs": [],
   "source": [
    "tabela = df_pivot222"
   ]
  },
  {
   "cell_type": "code",
   "execution_count": null,
   "id": "9fb0299e-c8a9-435d-b500-8208b5ae34cb",
   "metadata": {
    "tags": []
   },
   "outputs": [],
   "source": [
    "tabela.index = tabela.index.map(lambda x: pd.to_numeric(x.split('-')[0]) + 1 if isinstance(x, str) else x)"
   ]
  },
  {
   "cell_type": "code",
   "execution_count": null,
   "id": "cca621b9-6d8b-4649-a383-06cba928b885",
   "metadata": {
    "tags": []
   },
   "outputs": [],
   "source": [
    "tabela = pd.read_excel('tabela_analise.xlsx')\n",
    "tabela = pd.DataFrame(tabela)\n",
    "tabela"
   ]
  },
  {
   "cell_type": "code",
   "execution_count": null,
   "id": "9a7abb6f-5f2b-47a1-a537-50449a194384",
   "metadata": {},
   "outputs": [],
   "source": []
  }
 ],
 "metadata": {
  "kernelspec": {
   "display_name": "Python 3 (ipykernel)",
   "language": "python",
   "name": "python3"
  },
  "language_info": {
   "codemirror_mode": {
    "name": "ipython",
    "version": 3
   },
   "file_extension": ".py",
   "mimetype": "text/x-python",
   "name": "python",
   "nbconvert_exporter": "python",
   "pygments_lexer": "ipython3",
   "version": "3.11.5"
  }
 },
 "nbformat": 4,
 "nbformat_minor": 5
}
