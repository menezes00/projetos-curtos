{
 "cells": [
  {
   "cell_type": "code",
   "execution_count": 3,
   "id": "e0d02490-825d-4229-aabd-1abe3b7050d4",
   "metadata": {},
   "outputs": [],
   "source": [
    "#importando as bibliotecas necessárias para fazer essa tarefa\n",
    "#Por enquanto eu usarei o pandas para manipulas os dados "
   ]
  },
  {
   "cell_type": "code",
   "execution_count": 4,
   "id": "4eb2efdf-c68e-4365-ba4b-91cf73bf4da4",
   "metadata": {
    "tags": []
   },
   "outputs": [],
   "source": [
    "import pandas as pd"
   ]
  },
  {
   "cell_type": "markdown",
   "id": "8f4b2292-ed46-4377-92f4-6bfaeb38dfdf",
   "metadata": {},
   "source": [
    "Aqui foi criado uma lista vazia que no futuro vai armazenar o nome dos meus arquivos que por fim vão ser concatenados.\n",
    "porteiormente eu criei um laço que vai appendar do elemento 1 até o 7 do meu diretorio, deixei todos os arquivos com o mesmo nome para facilitar, sendo eles\n",
    "[1(1), 1(2)....1(6)] depois criei outra lista vazia chamada dataframes e repeti um processo semelhante e por fim usei o metodo concat para concatenar todos os arquivos do\n",
    "do meu diretorio facilitando subir um por um\n"
   ]
  },
  {
   "cell_type": "code",
   "execution_count": 5,
   "id": "a2333bff-8d51-4ec8-98b2-692a42ab80b8",
   "metadata": {
    "tags": []
   },
   "outputs": [],
   "source": [
    "# Criar uma lista para armazenar os nomes dos arquivos\n",
    "arquivos = []\n",
    "\n",
    "# Gerar os nomes dos arquivos\n",
    "for i in range(1, 7):\n",
    "    arquivos.append(\"1 ({}).xlsx\".format(i))\n",
    "\n",
    "# Criar uma lista vazia para armazenar os DataFrames\n",
    "dataframes = []\n",
    "\n",
    "# Ler cada arquivo e adicionar o DataFrame à lista\n",
    "for arquivo in arquivos:\n",
    "    dataframes.append(pd.read_excel(arquivo))\n",
    "\n",
    "# Concatenar os DataFrames em um único DataFrame\n",
    "df_consolidado = pd.concat(dataframes)\n",
    "\n"
   ]
  },
  {
   "cell_type": "code",
   "execution_count": 6,
   "id": "a5bfb79a-2978-4ed6-b0ad-6459ec02941b",
   "metadata": {
    "tags": []
   },
   "outputs": [],
   "source": [
    "# Aqui transformei em dataframe a minha variabel df_consolidado"
   ]
  },
  {
   "cell_type": "code",
   "execution_count": 7,
   "id": "5867de85-4951-453b-87c7-902388b52699",
   "metadata": {
    "tags": []
   },
   "outputs": [],
   "source": [
    "df_consolidado = pd.DataFrame(df_consolidado)"
   ]
  },
  {
   "cell_type": "code",
   "execution_count": 8,
   "id": "c7f13ec7-c112-480e-8a6b-92cd92319c10",
   "metadata": {},
   "outputs": [],
   "source": [
    "# com o metodo shape é possivel visualizar a estrutura do meu dataframe, ou seja linhas e colunas"
   ]
  },
  {
   "cell_type": "code",
   "execution_count": 9,
   "id": "b38f93c8-ed93-4b55-a1d5-70907727ee2c",
   "metadata": {
    "tags": []
   },
   "outputs": [
    {
     "data": {
      "text/plain": [
       "(2179, 32)"
      ]
     },
     "execution_count": 9,
     "metadata": {},
     "output_type": "execute_result"
    }
   ],
   "source": [
    "df_consolidado.shape"
   ]
  },
  {
   "cell_type": "code",
   "execution_count": 10,
   "id": "3a1da487-6e01-41f1-be3e-b0eac3596823",
   "metadata": {},
   "outputs": [],
   "source": [
    "# Aqui eu criei um laço para visualizar as colunas do meu dataframe usando o metodo do pandas .columns"
   ]
  },
  {
   "cell_type": "code",
   "execution_count": 11,
   "id": "7d60fd59-f161-41b2-a449-788d5473b302",
   "metadata": {
    "tags": []
   },
   "outputs": [
    {
     "name": "stdout",
     "output_type": "stream",
     "text": [
      "UF\n",
      "CTE\n",
      "PEDIDO\n",
      "NF\n",
      "CLIENTE\n",
      "VALOR\n",
      "SITUAÇÃO\n",
      "VENCIMENTO \n",
      "COMPROVANTE \n",
      "Shipment ID\n",
      "FATURA\n",
      "Order Code\n",
      "Seller ID\n",
      "Nome Fornece\n",
      "Data Agend.\n",
      "Vlr.Titulo\n",
      "COMPROVANTES\n",
      "SHIPMENTID\n",
      "Razao Forn\n",
      "Pedido\n",
      "Nota \n",
      "Cliente \n",
      "Situação \n",
      "Observação \n",
      "Vencto Real\n",
      "Val Liq Baix\n",
      "Comprovantes \n",
      "Fatura\n",
      "SHIPMENT ID\n",
      "Nota\n",
      "Cliente\n",
      "Situação\n"
     ]
    }
   ],
   "source": [
    "for colum in df_consolidado.columns:\n",
    "    print(colum)"
   ]
  },
  {
   "cell_type": "code",
   "execution_count": 12,
   "id": "05fffe7f-f686-4672-9ef3-ced2b25de72c",
   "metadata": {
    "tags": []
   },
   "outputs": [],
   "source": [
    "#Estou criando um nova coluna no meu dataframe chamada mês, Tal coluna usa como referencia o mÊs da minha coluna \"VENCIMENTO\"."
   ]
  },
  {
   "cell_type": "code",
   "execution_count": 13,
   "id": "6a7953f3-16da-4554-b762-8cb576516b66",
   "metadata": {
    "tags": []
   },
   "outputs": [],
   "source": [
    "df_consolidado['Mês'] = df_consolidado['VENCIMENTO '].dt.month"
   ]
  },
  {
   "cell_type": "code",
   "execution_count": 14,
   "id": "8cf52330-d5c2-433b-9f79-78490171610e",
   "metadata": {
    "tags": []
   },
   "outputs": [],
   "source": [
    "#Agora estou criando uma nova coluna correspondente a quizena que aquele valor foi cobrado. Para isso fiz uma list comprehension com a seguinte condição\n",
    "# Se o dia for maior que 15 a coluna será preenchida com a string \"Q2\" , se não será preenchido com \"Q1\".\n",
    "# Tudo isso será feito usando o metodo dt.day do pandas."
   ]
  },
  {
   "cell_type": "code",
   "execution_count": 15,
   "id": "8a120436-9b67-4ee5-9b95-0c06fbcb7bd5",
   "metadata": {
    "tags": []
   },
   "outputs": [],
   "source": [
    "df_consolidado['quinzena'] = ['Q2' if dia > 15 else 'Q1' for dia in df_consolidado['VENCIMENTO '].dt.day]"
   ]
  },
  {
   "cell_type": "code",
   "execution_count": 17,
   "id": "03c7b216-492c-43fb-839b-57c930e3c695",
   "metadata": {
    "tags": []
   },
   "outputs": [
    {
     "data": {
      "text/html": [
       "<div>\n",
       "<style scoped>\n",
       "    .dataframe tbody tr th:only-of-type {\n",
       "        vertical-align: middle;\n",
       "    }\n",
       "\n",
       "    .dataframe tbody tr th {\n",
       "        vertical-align: top;\n",
       "    }\n",
       "\n",
       "    .dataframe thead th {\n",
       "        text-align: right;\n",
       "    }\n",
       "</style>\n",
       "<table border=\"1\" class=\"dataframe\">\n",
       "  <thead>\n",
       "    <tr style=\"text-align: right;\">\n",
       "      <th></th>\n",
       "      <th>UF</th>\n",
       "      <th>CTE</th>\n",
       "      <th>PEDIDO</th>\n",
       "      <th>NF</th>\n",
       "      <th>CLIENTE</th>\n",
       "      <th>VALOR</th>\n",
       "      <th>SITUAÇÃO</th>\n",
       "      <th>VENCIMENTO</th>\n",
       "      <th>COMPROVANTE</th>\n",
       "      <th>Shipment ID</th>\n",
       "      <th>...</th>\n",
       "      <th>Vencto Real</th>\n",
       "      <th>Val Liq Baix</th>\n",
       "      <th>Comprovantes</th>\n",
       "      <th>Fatura</th>\n",
       "      <th>SHIPMENT ID</th>\n",
       "      <th>Nota</th>\n",
       "      <th>Cliente</th>\n",
       "      <th>Situação</th>\n",
       "      <th>Mês</th>\n",
       "      <th>quinzena</th>\n",
       "    </tr>\n",
       "  </thead>\n",
       "  <tbody>\n",
       "  </tbody>\n",
       "</table>\n",
       "<p>0 rows × 34 columns</p>\n",
       "</div>"
      ],
      "text/plain": [
       "Empty DataFrame\n",
       "Columns: [UF, CTE, PEDIDO, NF, CLIENTE, VALOR, SITUAÇÃO, VENCIMENTO , COMPROVANTE , Shipment ID, FATURA, Order Code, Seller ID, Nome Fornece, Data Agend., Vlr.Titulo, COMPROVANTES, SHIPMENTID, Razao Forn, Pedido, Nota , Cliente , Situação , Observação , Vencto Real, Val Liq Baix, Comprovantes , Fatura, SHIPMENT ID, Nota, Cliente, Situação, Mês, quinzena]\n",
       "Index: []\n",
       "\n",
       "[0 rows x 34 columns]"
      ]
     },
     "execution_count": 17,
     "metadata": {},
     "output_type": "execute_result"
    }
   ],
   "source": [
    "df_consolidado.head(0)"
   ]
  },
  {
   "cell_type": "code",
   "execution_count": null,
   "id": "b12ca8f3-745e-4293-90f7-2c74eab1b35e",
   "metadata": {},
   "outputs": [],
   "source": [
    "#salvando os dados em uma planilha excel usando o metodo to_excel do pandas"
   ]
  },
  {
   "cell_type": "code",
   "execution_count": 18,
   "id": "9005d9ce-25ac-4e63-b1e8-02d289516d64",
   "metadata": {},
   "outputs": [],
   "source": [
    "df_consolidado.to_excel('consolidado.xlsx')"
   ]
  }
 ],
 "metadata": {
  "kernelspec": {
   "display_name": "Python 3 (ipykernel)",
   "language": "python",
   "name": "python3"
  },
  "language_info": {
   "codemirror_mode": {
    "name": "ipython",
    "version": 3
   },
   "file_extension": ".py",
   "mimetype": "text/x-python",
   "name": "python",
   "nbconvert_exporter": "python",
   "pygments_lexer": "ipython3",
   "version": "3.11.5"
  }
 },
 "nbformat": 4,
 "nbformat_minor": 5
}
