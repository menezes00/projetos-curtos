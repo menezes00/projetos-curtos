{
 "cells": [
  {
   "cell_type": "code",
   "execution_count": null,
   "id": "eb8be89f-30e9-4dcb-a8aa-5c2522e6a50b",
   "metadata": {},
   "outputs": [],
   "source": [
    "import pandas as pd"
   ]
  },
  {
   "cell_type": "code",
   "execution_count": null,
   "id": "cb978c28-8c1f-4e7f-95cc-c17492790fe4",
   "metadata": {},
   "outputs": [],
   "source": [
    "pip install openpyxl"
   ]
  },
  {
   "cell_type": "code",
   "execution_count": null,
   "id": "4aae19dc-8f55-460a-828d-1574be939123",
   "metadata": {},
   "outputs": [],
   "source": [
    "dataframe = pd.read_excel('pedidos para consulta.xlsx')"
   ]
  },
  {
   "cell_type": "code",
   "execution_count": null,
   "id": "b1abd551-cc5c-4ddd-8b43-abf6c975680c",
   "metadata": {},
   "outputs": [],
   "source": [
    "dataframe = pd.DataFrame(dataframe)"
   ]
  },
  {
   "cell_type": "code",
   "execution_count": null,
   "id": "49c70376-b273-4684-9d45-17dd6d11ac52",
   "metadata": {},
   "outputs": [],
   "source": [
    "dataframe.head()"
   ]
  },
  {
   "cell_type": "markdown",
   "id": "4f7abc14-0f24-437f-b17a-d47206af8d29",
   "metadata": {},
   "source": [
    "## envolvendo meu dataframe com aspas"
   ]
  },
  {
   "cell_type": "code",
   "execution_count": null,
   "id": "15de0fdb-0a2f-4607-a178-6b9acdc920bb",
   "metadata": {},
   "outputs": [],
   "source": [
    "def envolver_com_aspas(valor):\n",
    "    return f\"'{valor}'\"\n",
    "\n",
    "# Aplique a função a todas as linhas do dataframe\n",
    "dataframe = dataframe.applymap(envolver_com_aspas)\n"
   ]
  },
  {
   "cell_type": "code",
   "execution_count": null,
   "id": "27be8421-82b4-4d03-ae4c-a760aed6d523",
   "metadata": {},
   "outputs": [],
   "source": [
    "dataframe.head()"
   ]
  },
  {
   "cell_type": "markdown",
   "id": "b1e678a0-f72e-400a-8803-44389369a998",
   "metadata": {},
   "source": [
    "## ADICIONANDO UMA VIRGULA A CADA LINDA DO MEU DATAFRAME"
   ]
  },
  {
   "cell_type": "code",
   "execution_count": null,
   "id": "f90b835c-d485-42dd-844f-c1e9df95ef9d",
   "metadata": {},
   "outputs": [],
   "source": [
    "def adicionar_virgula(valor):\n",
    "    return f'{valor},'\n",
    "\n",
    "# Aplique a função a todas as células do dataframe\n",
    "df = dataframe.applymap(adicionar_virgula)\n",
    "\n",
    "print(df)"
   ]
  },
  {
   "cell_type": "code",
   "execution_count": null,
   "id": "5b840144-62ed-4dd0-855d-a5537a5132a7",
   "metadata": {},
   "outputs": [],
   "source": [
    "df.to_excel('df.xlsx', index = \"false\")"
   ]
  },
  {
   "cell_type": "code",
   "execution_count": null,
   "id": "cc065c03-953b-49b1-b54d-485efff44226",
   "metadata": {},
   "outputs": [],
   "source": []
  },
  {
   "cell_type": "code",
   "execution_count": null,
   "id": "ee00f535-217a-4d21-8b0c-4e44735abdda",
   "metadata": {},
   "outputs": [],
   "source": []
  }
 ],
 "metadata": {
  "kernelspec": {
   "display_name": "Python 3 (ipykernel)",
   "language": "python",
   "name": "python3"
  },
  "language_info": {
   "codemirror_mode": {
    "name": "ipython",
    "version": 3
   },
   "file_extension": ".py",
   "mimetype": "text/x-python",
   "name": "python",
   "nbconvert_exporter": "python",
   "pygments_lexer": "ipython3",
   "version": "3.11.5"
  }
 },
 "nbformat": 4,
 "nbformat_minor": 5
}
