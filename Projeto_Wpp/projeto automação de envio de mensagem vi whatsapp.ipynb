{
 "cells": [
  {
   "cell_type": "code",
   "execution_count": 4,
   "metadata": {},
   "outputs": [],
   "source": [
    "import openpyxl\n",
    "from urllib.parse import quote\n",
    "import webbrowser\n",
    "from time import sleep\n",
    "import pyautogui\n",
    "import os \n"
   ]
  },
  {
   "cell_type": "code",
   "execution_count": 12,
   "metadata": {},
   "outputs": [],
   "source": [
    "webbrowser.open('https://web.whatsapp.com/')\n",
    "sleep(30)\n",
    "\n",
    "# Ler planilha e guardar informações sobre nome, telefone e data de vencimento\n",
    "# A planilha em questão deve ter duas colunas, nome e número.\n",
    "# A formatação do número deve ter o código do país+ddd+número\n",
    "\n",
    "workbook = openpyxl.load_workbook('telefone.xlsx')\n",
    "#Aqui eu chamo a biblioteca openpyxl usando o metodo load_workbook e após isso carrego a planilha\n",
    "pagina_clientes = workbook['Sheet1']\n",
    "#Aqui eu informo qual a sheet do arquivo será utilizada\n",
    "for linha in pagina_clientes.iter_rows(min_row=2):\n",
    "    # nome, telefone, vencimento\n",
    "    nome = linha[0].value\n",
    "    telefone = linha[1].value\n",
    "  #Nesse momento foi criado um laço para iterar sobre as linhas do meu dataframe, de modo que ele armazene os nomes e seus respectivos números em uma variavel(na memoria)\n",
    "    #Pois serão usados em outro momento\n",
    "    \n",
    "    mensagem = f'Olá {nome} seu Pedido saiu para entrega.'\n",
    "\n",
    "    # Criar links personalizados do whatsapp e enviar mensagens para cada cliente\n",
    "    # com base nos dados da planilha\n",
    "    try:\n",
    "        link_mensagem_whatsapp = f'https://web.whatsapp.com/send?phone={telefone}&text={quote(mensagem)}'\n",
    "        webbrowser.open(link_mensagem_whatsapp)\n",
    "        sleep(30)\n",
    "        seta = pyautogui.locateCenterOnScreen('seta.png')\n",
    "        sleep(15)\n",
    "        pyautogui.click(seta[0],seta[1])\n",
    "        sleep(15)\n",
    "        pyautogui.hotkey('ctrl','w')\n",
    "        sleep(15)\n",
    "        fechar = pyautogui.locateCenterOnScreen('fechar.png')\n",
    "        pyautogui.click(fechar[0],fechar[1])\n",
    "    except:\n",
    "        print(f'Não foi possível enviar mensagem para {nome}')\n",
    "        with open('erros.csv','a',newline='',encoding='utf-8') as arquivo:\n",
    "            arquivo.write(f'{nome},{telefone}{os.linesep}')\n",
    "    "
   ]
  },
  {
   "cell_type": "code",
   "execution_count": null,
   "metadata": {},
   "outputs": [],
   "source": []
  }
 ],
 "metadata": {
  "kernelspec": {
   "display_name": "Python 3",
   "language": "python",
   "name": "python3"
  },
  "language_info": {
   "codemirror_mode": {
    "name": "ipython",
    "version": 3
   },
   "file_extension": ".py",
   "mimetype": "text/x-python",
   "name": "python",
   "nbconvert_exporter": "python",
   "pygments_lexer": "ipython3",
   "version": "3.12.1"
  }
 },
 "nbformat": 4,
 "nbformat_minor": 2
}
